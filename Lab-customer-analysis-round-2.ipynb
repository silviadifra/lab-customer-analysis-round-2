{
 "cells": [
  {
   "cell_type": "code",
   "execution_count": 1,
   "id": "4a160f33",
   "metadata": {},
   "outputs": [],
   "source": [
    "import numpy as np\n",
    "import pandas as pd"
   ]
  },
  {
   "cell_type": "code",
   "execution_count": 2,
   "id": "8068082f",
   "metadata": {},
   "outputs": [
    {
     "name": "stdout",
     "output_type": "stream",
     "text": [
      "(4008, 11)\n",
      "(996, 11)\n",
      "(7070, 11)\n"
     ]
    }
   ],
   "source": [
    "# Read the three files into python as dataframes # read_csv(\"data/file1.csv\")\n",
    "file1 = pd.read_csv(\"file1.csv\")\n",
    "print(file1.shape)\n",
    "file2 = pd.read_csv(\"file2.csv\")\n",
    "print(file2.shape)\n",
    "file3 = pd.read_csv(\"file3.csv\")\n",
    "print(file3.shape)"
   ]
  },
  {
   "cell_type": "code",
   "execution_count": null,
   "id": "f52317d9",
   "metadata": {},
   "outputs": [],
   "source": []
  }
 ],
 "metadata": {
  "kernelspec": {
   "display_name": "Python 3 (ipykernel)",
   "language": "python",
   "name": "python3"
  },
  "language_info": {
   "codemirror_mode": {
    "name": "ipython",
    "version": 3
   },
   "file_extension": ".py",
   "mimetype": "text/x-python",
   "name": "python",
   "nbconvert_exporter": "python",
   "pygments_lexer": "ipython3",
   "version": "3.9.7"
  }
 },
 "nbformat": 4,
 "nbformat_minor": 5
}
